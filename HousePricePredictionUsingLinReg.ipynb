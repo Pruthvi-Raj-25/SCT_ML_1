{
  "nbformat": 4,
  "nbformat_minor": 0,
  "metadata": {
    "colab": {
      "provenance": [],
      "authorship_tag": "ABX9TyOW5aRGfGcCr7l6yQOwmLMG",
      "include_colab_link": true
    },
    "kernelspec": {
      "name": "python3",
      "display_name": "Python 3"
    },
    "language_info": {
      "name": "python"
    }
  },
  "cells": [
    {
      "cell_type": "markdown",
      "metadata": {
        "id": "view-in-github",
        "colab_type": "text"
      },
      "source": [
        "<a href=\"https://colab.research.google.com/github/Pruthvi-Raj-25/SCT_ML_1/blob/main/HousePricePredictionUsingLinReg.ipynb\" target=\"_parent\"><img src=\"https://colab.research.google.com/assets/colab-badge.svg\" alt=\"Open In Colab\"/></a>"
      ]
    },
    {
      "cell_type": "markdown",
      "source": [
        "###Importing the Libraries"
      ],
      "metadata": {
        "id": "Kqe7BSaAk1No"
      }
    },
    {
      "cell_type": "code",
      "execution_count": null,
      "metadata": {
        "id": "r2a-TiaCQKAp"
      },
      "outputs": [],
      "source": [
        "import pandas as pd\n",
        "import matplotlib.pyplot as plt"
      ]
    },
    {
      "cell_type": "code",
      "source": [
        "from sklearn.model_selection import train_test_split\n",
        "from sklearn.linear_model import LinearRegression\n",
        "from sklearn.metrics import mean_squared_error\n",
        "from sklearn.impute import SimpleImputer"
      ],
      "metadata": {
        "id": "hY0ul2qDdvvN"
      },
      "execution_count": null,
      "outputs": []
    },
    {
      "cell_type": "markdown",
      "source": [
        "###Reading and filtering Training data"
      ],
      "metadata": {
        "id": "2A9jqgjeG2fw"
      }
    },
    {
      "cell_type": "code",
      "source": [
        "training_data = pd.read_csv('train.csv')"
      ],
      "metadata": {
        "id": "vasXc5EbUoev"
      },
      "execution_count": null,
      "outputs": []
    },
    {
      "cell_type": "code",
      "source": [
        "print(training_data.head(1))"
      ],
      "metadata": {
        "id": "IjI5V0P1VJh3",
        "collapsed": true
      },
      "execution_count": null,
      "outputs": []
    },
    {
      "cell_type": "code",
      "source": [
        "data_filtered = training_data[['SalePrice', 'LotArea','BsmtFullBath','BsmtHalfBath','FullBath','HalfBath','BedroomAbvGr']]"
      ],
      "metadata": {
        "id": "v12QsRL8VMmG"
      },
      "execution_count": null,
      "outputs": []
    },
    {
      "cell_type": "code",
      "source": [
        "print(data_filtered.head(1))"
      ],
      "metadata": {
        "id": "1JzTAsGMaYXK"
      },
      "execution_count": null,
      "outputs": []
    },
    {
      "cell_type": "code",
      "source": [
        "data_filtered['Bath'] = data_filtered['BsmtFullBath'] + data_filtered['BsmtHalfBath'] + data_filtered['FullBath'] + data_filtered['HalfBath']"
      ],
      "metadata": {
        "id": "eNyLabw0afcH"
      },
      "execution_count": null,
      "outputs": []
    },
    {
      "cell_type": "code",
      "source": [
        "data_filtered = data_filtered.drop(['BsmtFullBath', 'BsmtHalfBath', 'FullBath', 'HalfBath'], axis=1)"
      ],
      "metadata": {
        "id": "O7cIXjjsa_m3"
      },
      "execution_count": null,
      "outputs": []
    },
    {
      "cell_type": "code",
      "source": [
        "print(data_filtered.head(1))"
      ],
      "metadata": {
        "id": "WHIFyHwMbDKu"
      },
      "execution_count": null,
      "outputs": []
    },
    {
      "cell_type": "markdown",
      "source": [
        "###Reading and Filtering Testing Data"
      ],
      "metadata": {
        "id": "-IARUradHKfj"
      }
    },
    {
      "cell_type": "code",
      "source": [
        "testing_data = pd.read_csv('test.csv')"
      ],
      "metadata": {
        "id": "jMFD_RlVbPR3"
      },
      "execution_count": null,
      "outputs": []
    },
    {
      "cell_type": "code",
      "source": [
        "test_filtered = testing_data[['LotArea','BsmtFullBath','BsmtHalfBath','FullBath','HalfBath','BedroomAbvGr']]"
      ],
      "metadata": {
        "id": "MIab_b8Tbe54"
      },
      "execution_count": null,
      "outputs": []
    },
    {
      "cell_type": "code",
      "source": [
        "test_filtered['Bath'] = test_filtered['BsmtFullBath'] + test_filtered['BsmtHalfBath'] + test_filtered['FullBath'] + test_filtered['HalfBath']"
      ],
      "metadata": {
        "id": "T63a1tkNbw_2"
      },
      "execution_count": null,
      "outputs": []
    },
    {
      "cell_type": "code",
      "source": [
        "test_filtered = test_filtered.drop(['BsmtFullBath', 'BsmtHalfBath', 'FullBath', 'HalfBath'], axis=1)"
      ],
      "metadata": {
        "id": "hSGSjKSUb2a4"
      },
      "execution_count": null,
      "outputs": []
    },
    {
      "cell_type": "code",
      "source": [
        "print(test_filtered.head(1))"
      ],
      "metadata": {
        "id": "NXn4Oe9yb45f"
      },
      "execution_count": null,
      "outputs": []
    },
    {
      "cell_type": "markdown",
      "source": [
        "###Data Handling"
      ],
      "metadata": {
        "id": "xQrMRroxHSI1"
      }
    },
    {
      "cell_type": "code",
      "source": [
        "imputer = SimpleImputer(strategy='mean')\n",
        "data_filtered = pd.DataFrame(imputer.fit_transform(data_filtered), columns=data_filtered.columns)"
      ],
      "metadata": {
        "id": "ulRpDt5IjPq_"
      },
      "execution_count": null,
      "outputs": []
    },
    {
      "cell_type": "code",
      "source": [
        "X_train = data_filtered.drop('SalePrice', axis=1)\n",
        "y_train = data_filtered['SalePrice']"
      ],
      "metadata": {
        "id": "oPwLueOgb7yo"
      },
      "execution_count": null,
      "outputs": []
    },
    {
      "cell_type": "code",
      "source": [
        "print(X_train.head(1))"
      ],
      "metadata": {
        "id": "yHplnSBzfWkr"
      },
      "execution_count": null,
      "outputs": []
    },
    {
      "cell_type": "code",
      "source": [
        "print(y_train.head(1))"
      ],
      "metadata": {
        "id": "-5EK-qhIf01S"
      },
      "execution_count": null,
      "outputs": []
    },
    {
      "cell_type": "code",
      "source": [
        "imputer = SimpleImputer(strategy='mean')\n",
        "test_filtered = pd.DataFrame(imputer.fit_transform(test_filtered), columns=test_filtered.columns)"
      ],
      "metadata": {
        "id": "ldocOozGjX9F"
      },
      "execution_count": null,
      "outputs": []
    },
    {
      "cell_type": "code",
      "source": [
        "X_test = test_filtered"
      ],
      "metadata": {
        "id": "-U11kV0pf7nK"
      },
      "execution_count": null,
      "outputs": []
    },
    {
      "cell_type": "code",
      "source": [
        "print(X_test.isnull().sum())"
      ],
      "metadata": {
        "id": "Ob4UupF8gXYR"
      },
      "execution_count": null,
      "outputs": []
    },
    {
      "cell_type": "code",
      "source": [
        "print(X_train.isnull().sum())"
      ],
      "metadata": {
        "id": "LrwGAus8g46K"
      },
      "execution_count": null,
      "outputs": []
    },
    {
      "cell_type": "markdown",
      "source": [
        "###Using Inbuilt Linear Regression function to train and fit the data"
      ],
      "metadata": {
        "id": "z97A2LhlHirB"
      }
    },
    {
      "cell_type": "code",
      "source": [
        "model = LinearRegression()\n",
        "model.fit(X_train, y_train)"
      ],
      "metadata": {
        "id": "mr20xvz7hAw5"
      },
      "execution_count": null,
      "outputs": []
    },
    {
      "cell_type": "markdown",
      "source": [
        "Predicting Data using predict function"
      ],
      "metadata": {
        "id": "rcp1u9jiHy9y"
      }
    },
    {
      "cell_type": "code",
      "source": [
        "predictions = model.predict(X_test)"
      ],
      "metadata": {
        "id": "UECQXi5dijXf"
      },
      "execution_count": null,
      "outputs": []
    },
    {
      "cell_type": "code",
      "source": [
        "predicted_data = pd.DataFrame({'Id': testing_data['Id'], 'SalePrice': predictions})"
      ],
      "metadata": {
        "id": "QyyfmVHuilDn"
      },
      "execution_count": null,
      "outputs": []
    },
    {
      "cell_type": "markdown",
      "source": [
        "Converting into a CSV"
      ],
      "metadata": {
        "id": "HQ37X5vCH7RF"
      }
    },
    {
      "cell_type": "code",
      "source": [
        "output_file_path = 'predicted_data.csv'\n",
        "predicted_data.to_csv(output_file_path, index=False)"
      ],
      "metadata": {
        "id": "agugQx9HkTit"
      },
      "execution_count": null,
      "outputs": []
    },
    {
      "cell_type": "code",
      "source": [
        "data_final = pd.read_csv('predicted_data.csv')"
      ],
      "metadata": {
        "id": "e6BVtCqIljed"
      },
      "execution_count": null,
      "outputs": []
    },
    {
      "cell_type": "markdown",
      "source": [
        "Plotting Data"
      ],
      "metadata": {
        "id": "ZJlYQPWcH5yj"
      }
    },
    {
      "cell_type": "code",
      "source": [
        "plt.scatter(data_final.Id, data_final.SalePrice)\n",
        "plt.show()"
      ],
      "metadata": {
        "id": "NNsNqkoAmDYD"
      },
      "execution_count": null,
      "outputs": []
    },
    {
      "cell_type": "code",
      "source": [],
      "metadata": {
        "id": "Ls9NPp6omFdz"
      },
      "execution_count": null,
      "outputs": []
    }
  ]
}